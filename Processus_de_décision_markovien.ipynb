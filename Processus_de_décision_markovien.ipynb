{
 "cells": [
  {
   "cell_type": "markdown",
   "id": "cordless-friendship",
   "metadata": {},
   "source": [
    "## Parking d'hiver"
   ]
  },
  {
   "cell_type": "code",
   "execution_count": 1,
   "id": "arctic-texture",
   "metadata": {},
   "outputs": [],
   "source": [
    "def coefficent(direction):\n",
    "    if(direction=='U'):\n",
    "        up=0.8\n",
    "        left=0.1\n",
    "        right=0.1\n",
    "        down=0.1\n",
    "    if(direction=='R'):\n",
    "        up=0.1\n",
    "        left=0.1\n",
    "        right=0.8\n",
    "        down=0.1\n",
    "    if(direction=='L'):\n",
    "        up=0.1\n",
    "        left=0.8\n",
    "        right=0.1\n",
    "        down=0.1\n",
    "    if(direction=='D'):\n",
    "        up=0.1\n",
    "        left=0.1\n",
    "        right=0.1\n",
    "        down=0.8\n",
    "    return up,left,right,down"
   ]
  },
  {
   "cell_type": "code",
   "execution_count": 2,
   "id": "wound-interview",
   "metadata": {},
   "outputs": [],
   "source": [
    "def affichage(K):\n",
    "    for j in range(3):\n",
    "        for i in range(4):\n",
    "            print(K[(j,i)],\"                \",end = '')\n",
    "        print(\"\\n\")"
   ]
  },
  {
   "cell_type": "code",
   "execution_count": 3,
   "id": "found-prophet",
   "metadata": {},
   "outputs": [],
   "source": [
    "def valeurs(cle,V,dir):\n",
    "    if(dir=='U'):\n",
    "        a=cle[0]-1\n",
    "        return V[(a,cle[1])]\n",
    "    if(dir=='L'):\n",
    "        b=cle[1]-1\n",
    "        return V[(cle[0],b)]\n",
    "    if(dir=='R'):\n",
    "        c=cle[1]+1\n",
    "        return V[(cle[0],c)]\n",
    "    if(dir=='D'):\n",
    "        d=cle[0]+1\n",
    "        return V[(d,cle[1])]\n",
    "\n"
   ]
  },
  {
   "cell_type": "code",
   "execution_count": 4,
   "id": "imposed-monitor",
   "metadata": {},
   "outputs": [],
   "source": [
    "def politiquee(som1,som2,som3,som4):\n",
    "    a=' '\n",
    "    if(max(som1,som2,som3,som4)==som1):\n",
    "        a='U'\n",
    "    else:\n",
    "        if(max(som1,som2,som3,som4)==som2):\n",
    "            a='L'\n",
    "        else:\n",
    "            if(max(som1,som2,som3,som4)==som3):\n",
    "                a='D'\n",
    "            else :\n",
    "                if(max(som1,som2,som3,som4)==som4):\n",
    "                    a='R'\n",
    "    return a\n"
   ]
  },
  {
   "cell_type": "code",
   "execution_count": 5,
   "id": "killing-speaker",
   "metadata": {},
   "outputs": [],
   "source": [
    "def valdirection(dir,valeur,V,cle):\n",
    "    som1=0\n",
    "    up,left,right,down=coefficent(dir)\n",
    "    if(dir=='U' or dir=='L' or dir=='R'):\n",
    "        check= 'U' in valeur\n",
    "        if(check==True):\n",
    "            som1=som1+up*valeurs(cle,V,'U')\n",
    "        else:\n",
    "            som1=som1+up*V[cle]\n",
    "    if(dir=='U' or dir=='L' or dir=='D'):\n",
    "        check= 'L' in valeur\n",
    "        if(check==True):\n",
    "            som1=som1+left*valeurs(cle,V,'L')\n",
    "        else:\n",
    "            som1=som1+left*V[cle]\n",
    "    if(dir=='U' or dir=='R' or dir=='D'):\n",
    "        check= 'R' in valeur\n",
    "        if(check==True):\n",
    "            c=cle[1]+1\n",
    "            som1=som1+right*valeurs(cle,V,'R')\n",
    "        else:\n",
    "            som1=som1+right*V[cle]\n",
    "\n",
    "    if(dir=='L' or dir=='R' or dir=='D'):\n",
    "        check= 'D' in valeur\n",
    "        if(check==True):\n",
    "            som1=som1+down*valeurs(cle,V,'D')\n",
    "        else:\n",
    "            som1=som1+down*V[cle]\n",
    "    return som1\n"
   ]
  },
  {
   "cell_type": "code",
   "execution_count": 14,
   "id": "offensive-converter",
   "metadata": {},
   "outputs": [],
   "source": [
    "def ValeurFinal(actions,V,rewarads,alpha):\n",
    "    indice = { (p, q) for q in range(4) for p in range(3) }\n",
    "    bestdirection = { s:' ' for s in indice }\n",
    "    for ooo in range(0,999):\n",
    "        Vcopy=V.copy()   \n",
    "        for cle,valeur in actions.items():\n",
    "            som1= valdirection('U',valeur,V,cle)\n",
    "            som2= valdirection('L',valeur,V,cle)\n",
    "            som3= valdirection('D',valeur,V,cle)\n",
    "            som4= valdirection('R',valeur,V,cle)\n",
    "            bestdirection[cle]=politiquee(som1,som2,som3,som4)\n",
    "            Vcopy[cle]=rewarads[cle]+alpha*max(som1,som2,som3,som4)          \n",
    "            \n",
    "        V=Vcopy.copy()  \n",
    "    affichage(Vcopy)\n",
    "    print(\"______________________________________________________________________________________________________________________________ \\n\")\n",
    "    affichage(bestdirection)"
   ]
  },
  {
   "cell_type": "code",
   "execution_count": 15,
   "id": "dangerous-poultry",
   "metadata": {},
   "outputs": [
    {
     "name": "stdout",
     "output_type": "stream",
     "text": [
      "5.469982786159354                 6.3130865015057305                 7.189904071159303                 8.668901928443876                 \n",
      "\n",
      "4.802911714676507                 0.0                 3.3467035141708235                 -96.6728106879175                 \n",
      "\n",
      "4.161489692317303                 3.6539909493517784                 3.2220624173721477                 1.5262400924394381                 \n",
      "\n",
      "______________________________________________________________________________________________________________________________ \n",
      "\n",
      "R                 R                 R                 U                 \n",
      "\n",
      "U                 U                 L                 L                 \n",
      "\n",
      "U                 L                 L                 D                 \n",
      "\n"
     ]
    }
   ],
   "source": [
    "import numpy as np\n",
    "#~.~.~.~.~.~.~.~.~.~.~.~.~.~.~.~.~.~.~.~.~.~.~.~.~.~.~.~.~.~.~.\n",
    "# Initialisation\n",
    "#~.~.~.~.~.~.~.~.~.~.~.~.~.~.~.~.~.~.~.~.~.~.~.~.~.~.~.~.~.~.~.\n",
    "gamma = 0.9\n",
    "green = (0,3)\n",
    "red = (1,3)\n",
    "S = { (i, j) for j in range(4) for i in range(3) }\n",
    "rewarads = { s:0 for s in S }\n",
    "\n",
    "rewarads[green] = 1 # case verte\n",
    "rewarads[red] = -100 # case rouge\n",
    "\n",
    "actions = { s:('U', 'D', 'L', 'R') for s in S}\n",
    "\n",
    "\n",
    "politique = { s: np.random.choice( actions[s] ) for s in S}\n",
    "\n",
    "actions[ (0,0) ] = ('D', 'R')\n",
    "actions[ (0,1) ] = ('L', 'R')\n",
    "actions[ (0,2) ] = ('D', 'L', 'R')\n",
    "actions[ (0,3) ] = ('L', 'D')\n",
    "\n",
    "actions[(1,0)] = ('U', 'D')\n",
    "actions[(1,1)] = ( )\n",
    "actions[(1,2)] = ('U', 'D','R')\n",
    "actions[(1,3)] = ('U', 'D','L')\n",
    "\n",
    "actions[(2,0)] = ('U', 'R')\n",
    "actions[(2,1)] = ('L', 'R')\n",
    "actions[(2,2)] = ('U', 'L', 'R')\n",
    "actions[(2,3)] = ('U','L')\n",
    "\n",
    "V = { s:0 for s in S}\n",
    "\n",
    "V[green] = 1\n",
    "V[red] = -100\n",
    "\n",
    "ValeurFinal(actions,V,rewarads,0.9)\n"
   ]
  }
 ],
 "metadata": {
  "kernelspec": {
   "display_name": "Python 3",
   "language": "python",
   "name": "python3"
  },
  "language_info": {
   "codemirror_mode": {
    "name": "ipython",
    "version": 3
   },
   "file_extension": ".py",
   "mimetype": "text/x-python",
   "name": "python",
   "nbconvert_exporter": "python",
   "pygments_lexer": "ipython3",
   "version": "3.7.3"
  }
 },
 "nbformat": 4,
 "nbformat_minor": 5
}
